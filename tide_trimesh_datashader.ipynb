{
 "cells": [
  {
   "cell_type": "markdown",
   "metadata": {},
   "source": [
    "# Visualizing ADCIRC data\n",
    "\n",
    "[Datashader](http://datashader.org)'s support for irregular triangular meshes allows datasets from such simulations to be rendered onscreen efficiently. This notebook shows an example of rendering a ADCIRC tidal database of the US Eastern coast, Once Datashader and the dataset are installed, you can run this notebook yourself to get a live version with interactive zooming for the plots that support it.\n",
    "\n",
    "Here you can enable the wheel-zoom tool in the toolbar, then use scrolling and your pointer to zoom and pan in the plot. As always with datashader, the data is provided to the browser in only one resolution to start with, and it will be updated when you zoom in"
   ]
  },
  {
   "cell_type": "code",
   "execution_count": null,
   "metadata": {
    "ExecuteTime": {
     "end_time": "2018-03-26T15:17:26.955324Z",
     "start_time": "2018-03-26T15:17:25.381233Z"
    }
   },
   "outputs": [],
   "source": [
    "import datashader as ds\n",
    "import datashader.transfer_functions as tf\n",
    "import datashader.utils as du\n",
    "import pandas as pd\n",
    "import numpy as np"
   ]
  },
  {
   "cell_type": "code",
   "execution_count": null,
   "metadata": {
    "ExecuteTime": {
     "end_time": "2018-03-26T15:17:27.092331Z",
     "start_time": "2018-03-26T15:17:26.957324Z"
    }
   },
   "outputs": [],
   "source": [
    "from gridgeo.ugrid import ugrid\n",
    "import netCDF4"
   ]
  },
  {
   "cell_type": "code",
   "execution_count": null,
   "metadata": {
    "ExecuteTime": {
     "end_time": "2018-03-26T15:17:32.649649Z",
     "start_time": "2018-03-26T15:17:27.094331Z"
    }
   },
   "outputs": [],
   "source": [
    "url='http://gamone.whoi.edu/thredds/dodsC/usgs/vault0/models/tides/ec2015/f53.ncml'\n",
    "nc = netCDF4.Dataset(url)\n",
    "u = ugrid(nc)\n",
    "\n",
    "z = nc['Amp'][0,:]\n",
    "#z = nc['depth'][:]\n"
   ]
  },
  {
   "cell_type": "code",
   "execution_count": null,
   "metadata": {
    "ExecuteTime": {
     "end_time": "2018-03-26T15:17:32.677651Z",
     "start_time": "2018-03-26T15:17:32.652649Z"
    }
   },
   "outputs": [],
   "source": [
    "v = np.vstack((u['nodes']['x'], u['nodes']['y'], z)).T"
   ]
  },
  {
   "cell_type": "code",
   "execution_count": null,
   "metadata": {
    "ExecuteTime": {
     "end_time": "2018-03-26T15:17:32.704652Z",
     "start_time": "2018-03-26T15:17:32.683651Z"
    }
   },
   "outputs": [],
   "source": [
    "v"
   ]
  },
  {
   "cell_type": "code",
   "execution_count": null,
   "metadata": {
    "ExecuteTime": {
     "end_time": "2018-03-26T15:17:32.739654Z",
     "start_time": "2018-03-26T15:17:32.709653Z"
    }
   },
   "outputs": [],
   "source": [
    "verts = pd.DataFrame(v, columns=['x','y','z'])\n",
    "tris = pd.DataFrame(u['faces'].astype('int'), columns=['v0','v1','v2'])"
   ]
  },
  {
   "cell_type": "code",
   "execution_count": null,
   "metadata": {
    "ExecuteTime": {
     "end_time": "2018-03-26T15:17:33.042672Z",
     "start_time": "2018-03-26T15:17:32.742655Z"
    }
   },
   "outputs": [],
   "source": [
    "%time mesh = du.mesh(verts, tris)"
   ]
  },
  {
   "cell_type": "code",
   "execution_count": null,
   "metadata": {
    "ExecuteTime": {
     "end_time": "2018-03-26T15:17:35.599818Z",
     "start_time": "2018-03-26T15:17:33.045672Z"
    }
   },
   "outputs": [],
   "source": [
    "from matplotlib.cm import jet\n",
    "cvs = ds.Canvas(plot_height=500, plot_width=500)\n",
    "%time agg = cvs.trimesh(verts, tris, mesh=mesh)"
   ]
  },
  {
   "cell_type": "code",
   "execution_count": null,
   "metadata": {
    "ExecuteTime": {
     "end_time": "2018-03-26T15:17:39.457039Z",
     "start_time": "2018-03-26T15:17:35.604818Z"
    }
   },
   "outputs": [],
   "source": [
    "import holoviews as hv\n",
    "from holoviews.operation.datashader import datashade\n",
    "\n",
    "hv.extension(\"bokeh\")"
   ]
  },
  {
   "cell_type": "code",
   "execution_count": null,
   "metadata": {
    "ExecuteTime": {
     "end_time": "2018-03-26T15:17:41.506156Z",
     "start_time": "2018-03-26T15:17:39.460039Z"
    }
   },
   "outputs": [],
   "source": [
    "import geoviews as gv\n",
    "\n",
    "%opts WMTS [width=500 height=500]\n",
    "\n",
    "tiles = gv.WMTS('https://maps.wikimedia.org/osm-intl/{Z}/{X}/{Y}@2x.png')\n",
    "\n",
    "%time points = gv.operation.project_points(gv.Points(verts, vdims=['z']))\n",
    "\n",
    "tiles * datashade(hv.TriMesh((tris, points)), cmap=jet, \n",
    "                  normalization='linear', aggregator=ds.mean('z'), precompute=False)"
   ]
  },
  {
   "cell_type": "markdown",
   "metadata": {},
   "source": [
    "Here you can enable the wheel-zoom tool in the toolbar, then use scrolling and your pointer to zoom and pan in the plot.  As always with datashader, the data is provided to the browser in only one resolution to start with, and it will be updated when you zoom in only if you have a running Python process, and are not just viewing this on a static web page."
   ]
  },
  {
   "cell_type": "code",
   "execution_count": null,
   "metadata": {},
   "outputs": [],
   "source": []
  }
 ],
 "metadata": {
  "extensions": {
   "jupyter_dashboards": {
    "activeView": "report_default",
    "version": 1,
    "views": {
     "grid_default": {
      "cellMargin": 10,
      "defaultCellHeight": 20,
      "maxColumns": 12,
      "name": "grid",
      "type": "grid"
     },
     "report_default": {
      "name": "report",
      "type": "report"
     }
    }
   }
  },
  "kernelspec": {
   "display_name": "Python [conda env:ds]",
   "language": "python",
   "name": "conda-env-ds-py"
  },
  "language_info": {
   "codemirror_mode": {
    "name": "ipython",
    "version": 3
   },
   "file_extension": ".py",
   "mimetype": "text/x-python",
   "name": "python",
   "nbconvert_exporter": "python",
   "pygments_lexer": "ipython3",
   "version": "3.6.4"
  }
 },
 "nbformat": 4,
 "nbformat_minor": 2
}
